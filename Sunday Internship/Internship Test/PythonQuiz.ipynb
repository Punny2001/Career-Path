{
 "cells": [
  {
   "cell_type": "markdown",
   "metadata": {
    "id": "jgpTf3kHlLI8"
   },
   "source": [
    "# Python Quiz"
   ]
  },
  {
   "cell_type": "markdown",
   "metadata": {
    "id": "qaDbWLrRlVzK"
   },
   "source": [
    "### 1. Check if a given string is palindrome\n",
    "> Example : Input1 = “aabbaa” Output1 = TRUE , Input2 = “abcabc” Output2 = FALSE"
   ]
  },
  {
   "cell_type": "code",
   "execution_count": 8,
   "metadata": {
    "id": "1gaa47Ozl8jo"
   },
   "outputs": [
    {
     "data": {
      "text/plain": [
       "False"
      ]
     },
     "execution_count": 8,
     "metadata": {},
     "output_type": "execute_result"
    }
   ],
   "source": [
    "## Write your code here ##\n",
    "def check_palindrome(input):\n",
    "    reverse = input[::-1]\n",
    "    if reverse == input:\n",
    "        return True\n",
    "    else:\n",
    "        return False\n",
    "check_palindrome('abcccc')"
   ]
  },
  {
   "cell_type": "markdown",
   "metadata": {
    "id": "e2XV4FzSlsKv"
   },
   "source": [
    "### 2. Given any JSON object. Please write a function to convert JSON to dot-notation object\n",
    "> Example : Input = {  \"key\": { \"value1\": 100, \"value2\": 200 } } \n",
    "> Output  = { \"key.value1\": 100, \"key.value2\": 200 }"
   ]
  },
  {
   "cell_type": "code",
   "execution_count": 9,
   "metadata": {
    "id": "2Jix4AIamZhM"
   },
   "outputs": [
    {
     "name": "stdout",
     "output_type": "stream",
     "text": [
      "{'key.value1': 100, 'key.value2': 200}\n"
     ]
    }
   ],
   "source": [
    "## Write your code here ##\n",
    "def dot_notation(input_json, old=\"\", dic={}):\n",
    "    if isinstance(input_json, dict):\n",
    "        for i in input_json.keys():\n",
    "            dot_notation(input_json[i] ,old+'.'+str(i))\n",
    "        return dic\n",
    "    else:\n",
    "        dic[old[1:]] = int(input_json)\n",
    "        \n",
    "to_dot = dot_notation({ \"key\": { \"value1\": 100, \"value2\": 200 } })\n",
    "print(to_dot)"
   ]
  },
  {
   "cell_type": "markdown",
   "metadata": {
    "id": "YaAUejqpmNcu"
   },
   "source": [
    "### 3. Given any nested list. Please write a function to sum the list using recursion.\n",
    ">Example : Input = [3,5,[23,[12,11],82],56,[74,9,[63]]] Output = 338"
   ]
  },
  {
   "cell_type": "code",
   "execution_count": 10,
   "metadata": {
    "id": "7I7J6oPYnEZs"
   },
   "outputs": [
    {
     "name": "stdout",
     "output_type": "stream",
     "text": [
      "338\n"
     ]
    }
   ],
   "source": [
    "## Write your code here ##\n",
    "def find_sum(input_list):\n",
    "    total = 0\n",
    "    for i in input_list:\n",
    "        if isinstance(i, list):\n",
    "            total += find_sum(i)\n",
    "        else:\n",
    "            total+=i\n",
    "    return total\n",
    "print(find_sum([3,5,[23,[12,11],82],56,[74,9,[63]]]))"
   ]
  },
  {
   "cell_type": "markdown",
   "metadata": {
    "id": "HOCvSYlZqniq"
   },
   "source": [
    "### 4. Given Policy and Claim data (\"Claim Data.csv\" and \"Policy Data.csv\"). Please find the Loss Ratio of each policy type."
   ]
  },
  {
   "cell_type": "code",
   "execution_count": 25,
   "metadata": {
    "id": "HE_enLSsqj6n"
   },
   "outputs": [
    {
     "name": "stdout",
     "output_type": "stream",
     "text": [
      "policy_type\n",
      "V1                  1.239427\n",
      "V1-BikeMonthly    102.848300\n",
      "dtype: float64\n"
     ]
    }
   ],
   "source": [
    "## Write your code here ##\n",
    "import pandas as pd\n",
    "import numpy as np\n",
    "\n",
    "policy = pd.read_csv(\"/Users/punny/Documents/GitHub/Career-Path/Sunday Internship/Internship Test/Policy Data.csv\")\n",
    "claim = pd.read_csv(\"/Users/punny/Documents/GitHub/Career-Path/Sunday Internship/Internship Test/Claim data.csv\")\n",
    "\n",
    "## Clean the data\n",
    "df = pd.merge(policy, claim, how='inner', on='policy_serial')\n",
    "df = df.dropna()\n",
    "# df.info()\n",
    "df['net_premium'] =df['net_premium'].str.replace(',','')\n",
    "df['claim_net_loss'] =df['claim_net_loss'].str.replace(',','')\n",
    "df = df.astype({\"net_premium\": float, \"claim_net_loss\": float})\n",
    "\n",
    "## Find the sum in each type\n",
    "group = df.groupby('policy_type').sum()\n",
    "# print(group)\n",
    "\n",
    "## Find loss ratio\n",
    "loss_ratio = group['claim_net_loss']/group['net_premium']\n",
    "print(loss_ratio)"
   ]
  }
 ],
 "metadata": {
  "colab": {
   "authorship_tag": "ABX9TyOybkXkL3ukrqdtUY4EXKHQ",
   "collapsed_sections": [],
   "name": "PythonQuiz.ipynb",
   "provenance": []
  },
  "kernelspec": {
   "display_name": "Python 3",
   "language": "python",
   "name": "python3"
  },
  "language_info": {
   "codemirror_mode": {
    "name": "ipython",
    "version": 3
   },
   "file_extension": ".py",
   "mimetype": "text/x-python",
   "name": "python",
   "nbconvert_exporter": "python",
   "pygments_lexer": "ipython3",
   "version": "3.8.5"
  }
 },
 "nbformat": 4,
 "nbformat_minor": 1
}
